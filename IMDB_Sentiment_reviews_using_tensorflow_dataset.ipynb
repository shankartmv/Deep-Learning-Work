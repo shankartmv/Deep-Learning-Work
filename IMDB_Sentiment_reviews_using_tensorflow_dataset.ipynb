{
  "nbformat": 4,
  "nbformat_minor": 0,
  "metadata": {
    "colab": {
      "name": "IMDB Sentiment reviews using tensorflow dataset.ipynb",
      "provenance": [],
      "authorship_tag": "ABX9TyNQuMFJ/U8VWCuQ5vPveoXF",
      "include_colab_link": true
    },
    "kernelspec": {
      "name": "python3",
      "display_name": "Python 3"
    }
  },
  "cells": [
    {
      "cell_type": "markdown",
      "metadata": {
        "id": "view-in-github",
        "colab_type": "text"
      },
      "source": [
        "<a href=\"https://colab.research.google.com/github/shankartmv/Deep-Learning-Work/blob/main/IMDB_Sentiment_reviews_using_tensorflow_dataset.ipynb\" target=\"_parent\"><img src=\"https://colab.research.google.com/assets/colab-badge.svg\" alt=\"Open In Colab\"/></a>"
      ]
    },
    {
      "cell_type": "code",
      "metadata": {
        "id": "eUS01slmAEaG"
      },
      "source": [
        "import numpy as np\r\n",
        "import tensorflow as tf\r\n",
        "import keras\r\n",
        "from keras.preprocessing.text import Tokenizer\r\n",
        "from keras.preprocessing.sequence import pad_sequences\r\n",
        "import tensorflow_datasets as tfds\r\n",
        "from matplotlib import pyplot as plt\r\n",
        "import seaborn as sns\r\n",
        "import chardet\r\n",
        "import keras.utils.vis_utils as kutils\r\n",
        "from operator import itemgetter\r\n",
        "from keras.initializers import Constant"
      ],
      "execution_count": null,
      "outputs": []
    },
    {
      "cell_type": "code",
      "metadata": {
        "id": "kfJkngLCAT66"
      },
      "source": [
        "print(tf.__version__)\r\n",
        "print(tf.executing_eagerly())\r\n",
        "print('Size of training dataset = ',train_dataset.cardinality(),'\\nSize of test dataset = ',test_dataset.cardinality())"
      ],
      "execution_count": null,
      "outputs": []
    },
    {
      "cell_type": "code",
      "metadata": {
        "id": "hSohIELUAWqs"
      },
      "source": [
        "train_dataset,train_info=tfds.load('imdb_reviews',with_info=True,split='train+test[:80%]')\r\n",
        "test_dataset,test_info=tfds.load('imdb_reviews',with_info=True,split='test[80%:100%]')"
      ],
      "execution_count": null,
      "outputs": []
    },
    {
      "cell_type": "code",
      "metadata": {
        "id": "tFp-6E-EAe7M"
      },
      "source": [
        "print('Train dataset type = ',type(train_dataset),'\\nTest dataset type = ',type(test_dataset))\r\n",
        "# Elements under the dataset is again a dictionary of tensor objects(values)\r\n",
        "print('Train dataset contents = ',train_dataset.element_spec,'\\nTrain dataset contents = ',test_dataset.element_spec)"
      ],
      "execution_count": null,
      "outputs": []
    }
  ]
}